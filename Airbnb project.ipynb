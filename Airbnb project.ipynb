{
 "cells": [
  {
   "cell_type": "code",
   "execution_count": 2,
   "metadata": {},
   "outputs": [],
   "source": [
    "# Imports packages\n",
    "\n",
    "#Import linear algebra and data manipulation\n",
    "import numpy as np\n",
    "import pandas as pd\n",
    "\n",
    "#Import plotting packages\n",
    "import matplotlib.pyplot as plt\n",
    "import seaborn as sns\n",
    "%matplotlib inline\n",
    "\n",
    "#Import machine learning\n",
    "from sklearn.linear_model import LinearRegression\n",
    "from sklearn.model_selection import train_test_split\n",
    "from sklearn.metrics import r2_score, mean_squared_error\n",
    "import AllTogether as t\n"
   ]
  },
  {
   "cell_type": "code",
   "execution_count": 5,
   "metadata": {},
   "outputs": [
    {
     "name": "stdout",
     "output_type": "stream",
     "text": [
      "Seatle has 3818 of listings and 2751 of hosts\n"
     ]
    }
   ],
   "source": [
    "# Read the data set\n",
    "df = pd.read_csv('./Airbnb listings.csv')\n",
    "\n",
    "# Find number of listings and unique number of hosts\n",
    "listings_number = df['id'].count()\n",
    "hosts_number = len(df['host_id'].unique())\n",
    "\n",
    "print(\"Seatle has {listings} of listings and {hosts} of hosts\".format(listings=listings_number, hosts=hosts_number))\n"
   ]
  },
  {
   "cell_type": "markdown",
   "metadata": {},
   "source": [
    "# Question 1: What factors influence ratings?"
   ]
  },
  {
   "cell_type": "code",
   "execution_count": 6,
   "metadata": {},
   "outputs": [
    {
     "name": "stdout",
     "output_type": "stream",
     "text": [
      "bathrooms               0\n",
      "bedrooms                0\n",
      "beds                    0\n",
      "price                   0\n",
      "cleaning_fee            0\n",
      "review_scores_rating    0\n",
      "dtype: int64\n"
     ]
    },
    {
     "name": "stderr",
     "output_type": "stream",
     "text": [
      "/opt/conda/lib/python3.6/site-packages/ipykernel_launcher.py:7: SettingWithCopyWarning: \n",
      "A value is trying to be set on a copy of a slice from a DataFrame\n",
      "\n",
      "See the caveats in the documentation: http://pandas.pydata.org/pandas-docs/stable/indexing.html#indexing-view-versus-copy\n",
      "  import sys\n",
      "/opt/conda/lib/python3.6/site-packages/ipykernel_launcher.py:10: SettingWithCopyWarning: \n",
      "A value is trying to be set on a copy of a slice from a DataFrame.\n",
      "Try using .loc[row_indexer,col_indexer] = value instead\n",
      "\n",
      "See the caveats in the documentation: http://pandas.pydata.org/pandas-docs/stable/indexing.html#indexing-view-versus-copy\n",
      "  # Remove the CWD from sys.path while we load stuff.\n",
      "/opt/conda/lib/python3.6/site-packages/ipykernel_launcher.py:11: SettingWithCopyWarning: \n",
      "A value is trying to be set on a copy of a slice from a DataFrame.\n",
      "Try using .loc[row_indexer,col_indexer] = value instead\n",
      "\n",
      "See the caveats in the documentation: http://pandas.pydata.org/pandas-docs/stable/indexing.html#indexing-view-versus-copy\n",
      "  # This is added back by InteractiveShellApp.init_path()\n",
      "/opt/conda/lib/python3.6/site-packages/pandas/core/generic.py:5434: SettingWithCopyWarning: \n",
      "A value is trying to be set on a copy of a slice from a DataFrame\n",
      "\n",
      "See the caveats in the documentation: http://pandas.pydata.org/pandas-docs/stable/indexing.html#indexing-view-versus-copy\n",
      "  self._update_inplace(new_data)\n"
     ]
    }
   ],
   "source": [
    "# Selecting relevant columns to answer the questions\n",
    "listings_df = df[[\"bathrooms\", \"bedrooms\", \"beds\", \"price\", \"cleaning_fee\", \"review_scores_rating\"]]\n",
    "\n",
    "## Data cleaning and prep\n",
    "# Remove rows with missing values in bathrooms, bedrooms, beds columns\n",
    "remove_column = ['bathrooms','bedrooms', 'beds']\n",
    "listings_df.dropna(subset=remove_column, inplace=True)\n",
    "\n",
    "# Strip price and cleaning fee columns and change data type to float\n",
    "listings_df['price'] = listings_df['price'].str.replace(r'[$,]', '', regex=True).astype(float)\n",
    "listings_df['cleaning_fee'] = listings_df['cleaning_fee'].str.replace(r'[$]', '', regex=True).astype(float)\n",
    "\n",
    "# Calculate the mean value of fee and fill in missing data of cleaning fee\n",
    "mean_fee = df[\"cleaning_fee\"].str.strip('$').astype(float).mean()\n",
    "listings_df[\"cleaning_fee\"].fillna(mean_fee, inplace=True)\n",
    "\n",
    "# Calculate the mean value of rating and fill in missing data of review_scores_rating\n",
    "mean_rating = df[\"review_scores_rating\"].mean()\n",
    "listings_df[\"review_scores_rating\"].fillna(mean_rating, inplace=True)\n",
    "\n",
    "# Check whether there are any missing values in all columns\n",
    "print(listings_df.isnull().sum())"
   ]
  },
  {
   "cell_type": "code",
   "execution_count": 7,
   "metadata": {},
   "outputs": [
    {
     "name": "stdout",
     "output_type": "stream",
     "text": [
      "The r-squared score for the model using only quantitative variables was 0.004404754271646327 on 380 values.\n"
     ]
    }
   ],
   "source": [
    "## Training the model\n",
    "X = listings_df[[\"price\", \"cleaning_fee\"]]\n",
    "y = listings_df[\"review_scores_rating\"]\n",
    "\n",
    "# Split data into training and test data, and fit a linear model\n",
    "X_train, X_test, y_train, y_test = train_test_split(X, y , test_size=.10, random_state=42)\n",
    "lm_model = LinearRegression(normalize=True)\n",
    "\n",
    "# If our model works, it should just fit our model to the data. Otherwise, it will let us know.\n",
    "try:\n",
    "    lm_model.fit(X_train, y_train)\n",
    "    y_test_preds = lm_model.predict(X_test) \n",
    "    print(\"The r-squared score for the model using only quantitative variables was {} on {} values.\".format(r2_score(y_test, y_test_preds), len(y_test)))\n",
    "    \n",
    "except:\n",
    "    print(\"Oh no! It doesn't work!!!\")\n"
   ]
  },
  {
   "cell_type": "code",
   "execution_count": 8,
   "metadata": {},
   "outputs": [
    {
     "data": {
      "image/png": "[encoded data removed]",
      "text/plain": [
       "<matplotlib.figure.Figure at 0x7f013e491c88>"
      ]
     },
     "metadata": {
      "needs_background": "light"
     },
     "output_type": "display_data"
    }
   ],
   "source": [
    "# Make a plot to visualise the correlation between cleaning fee and rating \n",
    "plt.scatter(x=listings_df[\"cleaning_fee\"], y=listings_df[\"review_scores_rating\"])\n",
    "plt.xlabel(\"Cleaning Fee\")\n",
    "plt.ylabel(\"Review Scores Rating\")\n",
    "plt.title(\"Correlation between Cleaning Fee and Review Scores Rating\")\n",
    "plt.show()"
   ]
  },
  {
   "cell_type": "markdown",
   "metadata": {},
   "source": [
    "# Question 2: How host respond services and rating influence availability?"
   ]
  },
  {
   "cell_type": "code",
   "execution_count": 9,
   "metadata": {},
   "outputs": [
    {
     "name": "stderr",
     "output_type": "stream",
     "text": [
      "/opt/conda/lib/python3.6/site-packages/ipykernel_launcher.py:7: SettingWithCopyWarning: \n",
      "A value is trying to be set on a copy of a slice from a DataFrame\n",
      "\n",
      "See the caveats in the documentation: http://pandas.pydata.org/pandas-docs/stable/indexing.html#indexing-view-versus-copy\n",
      "  import sys\n",
      "/opt/conda/lib/python3.6/site-packages/ipykernel_launcher.py:11: SettingWithCopyWarning: \n",
      "A value is trying to be set on a copy of a slice from a DataFrame.\n",
      "Try using .loc[row_indexer,col_indexer] = value instead\n",
      "\n",
      "See the caveats in the documentation: http://pandas.pydata.org/pandas-docs/stable/indexing.html#indexing-view-versus-copy\n",
      "  # This is added back by InteractiveShellApp.init_path()\n",
      "/opt/conda/lib/python3.6/site-packages/ipykernel_launcher.py:14: SettingWithCopyWarning: \n",
      "A value is trying to be set on a copy of a slice from a DataFrame.\n",
      "Try using .loc[row_indexer,col_indexer] = value instead\n",
      "\n",
      "See the caveats in the documentation: http://pandas.pydata.org/pandas-docs/stable/indexing.html#indexing-view-versus-copy\n",
      "  \n",
      "/opt/conda/lib/python3.6/site-packages/ipykernel_launcher.py:17: SettingWithCopyWarning: \n",
      "A value is trying to be set on a copy of a slice from a DataFrame.\n",
      "Try using .loc[row_indexer,col_indexer] = value instead\n",
      "\n",
      "See the caveats in the documentation: http://pandas.pydata.org/pandas-docs/stable/indexing.html#indexing-view-versus-copy\n",
      "/opt/conda/lib/python3.6/site-packages/ipykernel_launcher.py:18: SettingWithCopyWarning: \n",
      "A value is trying to be set on a copy of a slice from a DataFrame.\n",
      "Try using .loc[row_indexer,col_indexer] = value instead\n",
      "\n",
      "See the caveats in the documentation: http://pandas.pydata.org/pandas-docs/stable/indexing.html#indexing-view-versus-copy\n"
     ]
    },
    {
     "name": "stdout",
     "output_type": "stream",
     "text": [
      "host_response_time      0\n",
      "host_response_rate      0\n",
      "host_acceptance_rate    0\n",
      "host_is_superhost       0\n",
      "review_scores_rating    0\n",
      "availability_30         0\n",
      "availability_60         0\n",
      "availability_90         0\n",
      "availability_365        0\n",
      "dtype: int64\n"
     ]
    },
    {
     "name": "stderr",
     "output_type": "stream",
     "text": [
      "/opt/conda/lib/python3.6/site-packages/pandas/core/generic.py:5434: SettingWithCopyWarning: \n",
      "A value is trying to be set on a copy of a slice from a DataFrame\n",
      "\n",
      "See the caveats in the documentation: http://pandas.pydata.org/pandas-docs/stable/indexing.html#indexing-view-versus-copy\n",
      "  self._update_inplace(new_data)\n"
     ]
    }
   ],
   "source": [
    "# Selecting relevant columns to answer the questions\n",
    "avail_factors = df[['host_response_time','host_response_rate','host_acceptance_rate', 'host_is_superhost', 'review_scores_rating', \n",
    "                    'availability_30', 'availability_60','availability_90', 'availability_365']]\n",
    "\n",
    "## Data cleaning and prep\n",
    "# Drop superhost column\n",
    "avail_factors.dropna(subset=['host_is_superhost'], inplace=True)\n",
    "\n",
    "# Replace categorical values with float for model training\n",
    "response_map = {'within a few hours': 2, 'within an hour': 1, 'within a day': 3,'a few days or more': 4}\n",
    "avail_factors['host_response_time'] = avail_factors['host_response_time'].replace(response_map)\n",
    "\n",
    "superhost_map = {'f': 0, 't': 1}\n",
    "avail_factors['host_is_superhost'] = avail_factors['host_is_superhost'].replace(superhost_map)\n",
    "\n",
    "# Strip values and turn into float\n",
    "avail_factors['host_response_rate'] = avail_factors['host_response_rate'].str.replace(r'[%,]', '', regex=True).astype(float)\n",
    "avail_factors['host_acceptance_rate'] = avail_factors['host_acceptance_rate'].str.replace(r'[%,]', '', regex=True).astype(float)\n",
    "\n",
    "# Find and fill in mean values for host_response_time, host_response_rate and host_acceptance_rate columns\n",
    "def filling_mean(df, column_name):\n",
    "    mean = df[column_name].mean()\n",
    "    df[column_name].fillna(mean, inplace=True)\n",
    "\n",
    "# Calling the function \"filling_mean\" to fill in mean values for empty rows\n",
    "column_names = [\"host_response_time\", \"host_response_rate\", \"host_acceptance_rate\", \"review_scores_rating\"]\n",
    "[filling_mean(avail_factors, column) for column in column_names]\n",
    "\n",
    "# Check whether the data frame has empty values\n",
    "print(avail_factors.isnull().sum())"
   ]
  },
  {
   "cell_type": "code",
   "execution_count": 10,
   "metadata": {},
   "outputs": [
    {
     "name": "stdout",
     "output_type": "stream",
     "text": [
      "The r-squared score for the model using only quantitative variables was -0.005126527088201049 on 382 values.\n"
     ]
    }
   ],
   "source": [
    "## Training the model\n",
    "X = avail_factors[['host_response_time','host_response_rate','host_acceptance_rate', 'host_is_superhost', 'review_scores_rating']]\n",
    "y = avail_factors[['availability_30', 'availability_60']]\n",
    "\n",
    "# Split data into training and test data, and fit a linear model\n",
    "X_train, X_test, y_train, y_test = train_test_split(X, y , test_size=.10, random_state=42)\n",
    "lm_model = LinearRegression(normalize=True)\n",
    "\n",
    "# If our model works, it should just fit our model to the data. Otherwise, it will let us know.\n",
    "try:\n",
    "    lm_model.fit(X_train, y_train)\n",
    "    y_test_preds = lm_model.predict(X_test) \n",
    "    print(\"The r-squared score for the model using only quantitative variables was {} on {} values.\".format(r2_score(y_test, y_test_preds), len(y_test)))\n",
    "    \n",
    "except:\n",
    "    print(\"Oh no! It doesn't work!!!\")"
   ]
  },
  {
   "cell_type": "markdown",
   "metadata": {},
   "source": [
    "# Question 3: How neighbourhood influences availability?"
   ]
  },
  {
   "cell_type": "code",
   "execution_count": 11,
   "metadata": {},
   "outputs": [
    {
     "name": "stdout",
     "output_type": "stream",
     "text": [
      "neighbourhood_cleansed          0\n",
      "neighbourhood_group_cleansed    0\n",
      "availability_30                 0\n",
      "availability_60                 0\n",
      "availability_90                 0\n",
      "availability_365                0\n",
      "dtype: int64\n"
     ]
    }
   ],
   "source": [
    "## Data cleaning and prep\n",
    "# Selecting relevant columns to answer the questions\n",
    "avail_factors = df[['neighbourhood_cleansed','neighbourhood_group_cleansed', \n",
    "                    'availability_30', 'availability_60','availability_90', 'availability_365']]\n",
    "\n",
    "# Check whether the data frame has empty values\n",
    "print(avail_factors.isnull().sum())"
   ]
  },
  {
   "cell_type": "code",
   "execution_count": 12,
   "metadata": {},
   "outputs": [
    {
     "name": "stdout",
     "output_type": "stream",
     "text": [
      "The r-squared score for the model using only quantitative variables was -0.04826558334942599 on 382 values.\n"
     ]
    }
   ],
   "source": [
    "## Training the model\n",
    "X = pd.get_dummies(avail_factors[['neighbourhood_cleansed','neighbourhood_group_cleansed']])\n",
    "y = avail_factors[['availability_30', 'availability_60']]\n",
    "\n",
    "# Split data into training and test data, and fit a linear model\n",
    "X_train, X_test, y_train, y_test = train_test_split(X, y , test_size=.10, random_state=42)\n",
    "lm_model = LinearRegression(normalize=True)\n",
    "\n",
    "# If our model works, it should just fit our model to the data. Otherwise, it will let us know.\n",
    "try:\n",
    "    lm_model.fit(X_train, y_train)\n",
    "    y_test_preds = lm_model.predict(X_test) \n",
    "    print(\"The r-squared score for the model using only quantitative variables was {} on {} values.\".format(r2_score(y_test, y_test_preds), len(y_test)))\n",
    "    \n",
    "except:\n",
    "    print(\"Oh no! It doesn't work!!!\")"
   ]
  }
 ],
 "metadata": {
  "kernelspec": {
   "display_name": "Python 3",
   "language": "python",
   "name": "python3"
  },
  "language_info": {
   "codemirror_mode": {
    "name": "ipython",
    "version": 3
   },
   "file_extension": ".py",
   "mimetype": "text/x-python",
   "name": "python",
   "nbconvert_exporter": "python",
   "pygments_lexer": "ipython3",
   "version": "3.6.3"
  }
 },
 "nbformat": 4,
 "nbformat_minor": 2
}
