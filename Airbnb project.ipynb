{
 "cells": [
  {
   "cell_type": "code",
   "execution_count": 1,
   "metadata": {},
   "outputs": [],
   "source": [
    "# Imports packages\n",
    "\n",
    "#Import linear algebra and data manipulation\n",
    "import numpy as np\n",
    "import pandas as pd\n",
    "\n",
    "#Import plotting packages\n",
    "import matplotlib.pyplot as plt\n",
    "import seaborn as sns\n",
    "%matplotlib inline\n",
    "\n",
    "#Import machine learning\n",
    "from sklearn.linear_model import LinearRegression\n",
    "from sklearn.model_selection import train_test_split\n",
    "from sklearn.metrics import r2_score, mean_squared_error\n",
    "import AllTogether as t\n"
   ]
  },
  {
   "cell_type": "markdown",
   "metadata": {},
   "source": [
    "# Business Understanding\n",
    "Based on the available data reviwed below, we ask ourself the following\n",
    "questions:\n",
    "1. What are the factors that could influence ratings? \n",
    "2. Would host responses and rating influence availability? \n",
    "3. Would the property neighbourhood influences availability?"
   ]
  },
  {
   "cell_type": "markdown",
   "metadata": {},
   "source": [
    "# Data understanding"
   ]
  },
  {
   "cell_type": "code",
   "execution_count": 2,
   "metadata": {},
   "outputs": [
    {
     "name": "stdout",
     "output_type": "stream",
     "text": [
      "Seatle has 3818 of listings and 2751 of hosts\n"
     ]
    }
   ],
   "source": [
    "# Read the data set\n",
    "df = pd.read_csv('./Airbnb listings.csv')\n",
    "\n",
    "# Find number of listings and unique number of hosts\n",
    "listings_number = df['id'].count()\n",
    "hosts_number = len(df['host_id'].unique())\n",
    "\n",
    "print(\"Seatle has {listings} of listings and {hosts} of hosts\".format(listings=listings_number, hosts=hosts_number))\n"
   ]
  },
  {
   "cell_type": "markdown",
   "metadata": {},
   "source": [
    "# Question 1: What are the factors that could influence ratings? \n",
    "To answer the first question, we need to identify a list of attributes that could influence customer ratings. \n",
    "\n",
    "The assumption is that property cleaning fees, the number of bathrooms, bedrooms, beds and price would impact ratings.  \n",
    "\n",
    "We put some variables, including cleaning fees and price, into the linear regression model and the result shows moderate variablility in the dependent variables. \n",
    "\n",
    "We plotted the cleaning fees and review score ratings and identified that there are correlations, where low cleaning fees correspond to higher customer reviews.  "
   ]
  },
  {
   "cell_type": "markdown",
   "metadata": {},
   "source": [
    "## Prepare data"
   ]
  },
  {
   "cell_type": "code",
   "execution_count": 3,
   "metadata": {},
   "outputs": [
    {
     "name": "stdout",
     "output_type": "stream",
     "text": [
      "bathrooms               0\n",
      "bedrooms                0\n",
      "beds                    0\n",
      "price                   0\n",
      "cleaning_fee            0\n",
      "review_scores_rating    0\n",
      "dtype: int64\n"
     ]
    },
    {
     "name": "stderr",
     "output_type": "stream",
     "text": [
      "/opt/conda/lib/python3.6/site-packages/ipykernel_launcher.py:7: SettingWithCopyWarning: \n",
      "A value is trying to be set on a copy of a slice from a DataFrame\n",
      "\n",
      "See the caveats in the documentation: http://pandas.pydata.org/pandas-docs/stable/indexing.html#indexing-view-versus-copy\n",
      "  import sys\n",
      "/opt/conda/lib/python3.6/site-packages/ipykernel_launcher.py:24: SettingWithCopyWarning: \n",
      "A value is trying to be set on a copy of a slice from a DataFrame.\n",
      "Try using .loc[row_indexer,col_indexer] = value instead\n",
      "\n",
      "See the caveats in the documentation: http://pandas.pydata.org/pandas-docs/stable/indexing.html#indexing-view-versus-copy\n",
      "/opt/conda/lib/python3.6/site-packages/pandas/core/generic.py:5434: SettingWithCopyWarning: \n",
      "A value is trying to be set on a copy of a slice from a DataFrame\n",
      "\n",
      "See the caveats in the documentation: http://pandas.pydata.org/pandas-docs/stable/indexing.html#indexing-view-versus-copy\n",
      "  self._update_inplace(new_data)\n"
     ]
    }
   ],
   "source": [
    "# Selecting relevant columns to answer the questions\n",
    "listings_df = df[[\"bathrooms\", \"bedrooms\", \"beds\", \"price\", \"cleaning_fee\", \"review_scores_rating\"]]\n",
    "\n",
    "# Data cleaning and prep\n",
    "# Remove rows with missing values in bathrooms, bedrooms, beds columns\n",
    "\"\"\"\n",
    "Reason for chosen approach:  \n",
    "The presence of missing values can affect the quality and integrity \n",
    "of the dataset. A significant portion of rows have missing values \n",
    "in the columns that are important for the analysis, it can introduce \n",
    "bias and affect the accuracy of predictions.\n",
    "\"\"\"\n",
    "remove_column = ['bathrooms','bedrooms', 'beds']\n",
    "listings_df.dropna(subset=remove_column, inplace=True)\n",
    "\n",
    "# Strip columns and change data type to float\n",
    "def column_transformation(df, col_name, ch):\n",
    "    \"\"\"\n",
    "    Perform column transformation on a DataFrame.\n",
    "\n",
    "    This function strips specified characters from a column and changes its data type to float.\n",
    "\n",
    "    Parameters:\n",
    "    df (DataFrame): The DataFrame containing the column to be transformed.\n",
    "    col_name (str): The name of the column to be transformed.\n",
    "    ch (str): The characters to be removed from the column.\n",
    "\n",
    "    Returns:\n",
    "    None. The function modifies the input DataFrame in place.\n",
    "    \"\"\"\n",
    "    df[col_name] = df[col_name].str.replace(r'[{} ,]'.format(ch), '', regex=True).astype(float)\n",
    "\n",
    "# Strip price and cleaning_fee columns and change data type to float\n",
    "column_transformation(listings_df, 'price', '$')\n",
    "column_transformation(listings_df, 'cleaning_fee', '$')\n",
    "\n",
    "# Find and fill in mean values\n",
    "def filling_mean(df, column_name):\n",
    "    \"\"\"\n",
    "    Fill missing values in a specific column of a DataFrame with the column's mean.\n",
    "\n",
    "    This function calculates the mean of the specified column and fills any missing values\n",
    "    in that column with the calculated mean.\n",
    "\n",
    "    Parameters:\n",
    "    df (pandas.DataFrame): The DataFrame containing the column to be filled.\n",
    "    column_name (str): The name of the column with missing values to be filled.\n",
    "\n",
    "    Returns:\n",
    "    None: The function modifies the input DataFrame in-place by filling missing values.\n",
    "\n",
    "    Example:\n",
    "    filling_mean(my_dataframe, 'age')\n",
    "    # This will fill missing values in the 'age' column of 'my_dataframe' with the mean of the column.\n",
    "    \"\"\"\n",
    "    mean = df[column_name].mean()\n",
    "    df[column_name].fillna(mean, inplace=True)\n",
    "\n",
    "# Call the funtion to fill in the mean value\n",
    "\"\"\"\n",
    "Reason for chosen approach: \n",
    "When dealing with missing data, simply removing rows with missing values \n",
    "can result in a loss of valuable information. Filling in missing values \n",
    "with mean values allows me to retain more data points and maintain the \n",
    "overall integrity of the dataset.\n",
    "\n",
    "\"\"\"\n",
    "filling_mean(listings_df, \"review_scores_rating\")\n",
    "filling_mean(listings_df, \"cleaning_fee\")\n",
    "\n",
    "# Check whether there are any missing values in all columns\n",
    "print(listings_df.isnull().sum())"
   ]
  },
  {
   "cell_type": "markdown",
   "metadata": {},
   "source": [
    "## Data modeling"
   ]
  },
  {
   "cell_type": "code",
   "execution_count": 4,
   "metadata": {},
   "outputs": [
    {
     "name": "stdout",
     "output_type": "stream",
     "text": [
      "The r-squared score for the model using only quantitative variables was 0.004411376394559907 on 380 values.\n"
     ]
    }
   ],
   "source": [
    "# Training the model\n",
    "X = listings_df[[\"price\", \"cleaning_fee\"]]\n",
    "y = listings_df[\"review_scores_rating\"]\n",
    "\n",
    "# Split data into training and test data, and fit a linear model\n",
    "X_train, X_test, y_train, y_test = train_test_split(X, y, test_size=0.10, random_state=42)\n",
    "lm_model = LinearRegression(normalize=True)\n",
    "\n",
    "# If our model works, it should just fit our model to the data. Otherwise, it will let us know.\n",
    "try:\n",
    "    lm_model.fit(X_train, y_train)\n",
    "    y_test_preds = lm_model.predict(X_test)\n",
    "    print(\"The r-squared score for the model using only quantitative variables was {} on {} values.\".format(r2_score(y_test, y_test_preds), len(y_test)))\n",
    "except:\n",
    "    print(\"Oh no! It doesn't work!!!\")\n"
   ]
  },
  {
   "cell_type": "markdown",
   "metadata": {},
   "source": [
    "## Evaluate the results"
   ]
  },
  {
   "cell_type": "markdown",
   "metadata": {},
   "source": [
    "The R-squared score indicates that the linear regression model using only \"price\" and \"cleaning_fee\" as independent variables is not able to explain much of the variability in the \"review_scores_rating.\"\n",
    "\n",
    "This suggests that these variables alone may not be strong predictors of the review scores. It's important to note that an R-squared score close to 0 indicates that the model does not fit the data well, and additional factors may need to be considered to improve the model's predictive power."
   ]
  },
  {
   "cell_type": "code",
   "execution_count": 9,
   "metadata": {},
   "outputs": [
    {
     "data": {
      "image/png": "[encoded data removed]",
      "text/plain": [
       "<matplotlib.figure.Figure at 0x7fd7564722e8>"
      ]
     },
     "metadata": {},
     "output_type": "display_data"
    }
   ],
   "source": [
    "# Set style\n",
    "sns.set(style=\"whitegrid\")\n",
    "\n",
    "# Create a scatter plot to visualize the correlation between cleaning fee and rating\n",
    "plt.figure(figsize=(10, 6))\n",
    "plt.scatter(x=listings_df[\"cleaning_fee\"], y=listings_df[\"review_scores_rating\"], color='skyblue', alpha=0.7)\n",
    "\n",
    "# Set labels and title\n",
    "plt.xlabel(\"Cleaning Fee\")\n",
    "plt.ylabel(\"Customer Review Scores\")\n",
    "plt.title(\"Correlation between Cleaning Fee and Customer Review Scores\")\n",
    "\n",
    "# Add a trendline\n",
    "sns.regplot(x=listings_df[\"cleaning_fee\"], y=listings_df[\"review_scores_rating\"], scatter=False, color='blue')\n",
    "\n",
    "# Show plot\n",
    "plt.tight_layout()\n",
    "plt.show()"
   ]
  },
  {
   "cell_type": "markdown",
   "metadata": {},
   "source": [
    "### Observation"
   ]
  },
  {
   "cell_type": "markdown",
   "metadata": {},
   "source": [
    "The chart illustrates the correlations between clearning fees and customer reviews. Lower clearning fees correspond to higher customer review scores. "
   ]
  },
  {
   "cell_type": "markdown",
   "metadata": {},
   "source": [
    "# Question 2: Would host responses and rating influence availability? \n",
    "To answer the second question, we need to identify a list of attributes that could influence availability.\n",
    "\n",
    "The assumption is that host response time, host response rate , host acceptance rate, superhost and customer review scores would impact availability.\n",
    "\n",
    "We put some variables into the linear regression model and the result shows low variablility in the dependent variables."
   ]
  },
  {
   "cell_type": "markdown",
   "metadata": {},
   "source": [
    "## Prepare data"
   ]
  },
  {
   "cell_type": "code",
   "execution_count": 15,
   "metadata": {},
   "outputs": [
    {
     "name": "stderr",
     "output_type": "stream",
     "text": [
      "/opt/conda/lib/python3.6/site-packages/ipykernel_launcher.py:7: SettingWithCopyWarning: \n",
      "A value is trying to be set on a copy of a slice from a DataFrame\n",
      "\n",
      "See the caveats in the documentation: http://pandas.pydata.org/pandas-docs/stable/indexing.html#indexing-view-versus-copy\n",
      "  import sys\n",
      "/opt/conda/lib/python3.6/site-packages/ipykernel_launcher.py:26: SettingWithCopyWarning: \n",
      "A value is trying to be set on a copy of a slice from a DataFrame.\n",
      "Try using .loc[row_indexer,col_indexer] = value instead\n",
      "\n",
      "See the caveats in the documentation: http://pandas.pydata.org/pandas-docs/stable/indexing.html#indexing-view-versus-copy\n",
      "/opt/conda/lib/python3.6/site-packages/ipykernel_launcher.py:24: SettingWithCopyWarning: \n",
      "A value is trying to be set on a copy of a slice from a DataFrame.\n",
      "Try using .loc[row_indexer,col_indexer] = value instead\n",
      "\n",
      "See the caveats in the documentation: http://pandas.pydata.org/pandas-docs/stable/indexing.html#indexing-view-versus-copy\n"
     ]
    },
    {
     "name": "stdout",
     "output_type": "stream",
     "text": [
      "host_response_time      0\n",
      "host_response_rate      0\n",
      "host_acceptance_rate    0\n",
      "host_is_superhost       0\n",
      "review_scores_rating    0\n",
      "availability_30         0\n",
      "availability_60         0\n",
      "availability_90         0\n",
      "availability_365        0\n",
      "dtype: int64\n"
     ]
    },
    {
     "name": "stderr",
     "output_type": "stream",
     "text": [
      "/opt/conda/lib/python3.6/site-packages/pandas/core/generic.py:5434: SettingWithCopyWarning: \n",
      "A value is trying to be set on a copy of a slice from a DataFrame\n",
      "\n",
      "See the caveats in the documentation: http://pandas.pydata.org/pandas-docs/stable/indexing.html#indexing-view-versus-copy\n",
      "  self._update_inplace(new_data)\n"
     ]
    }
   ],
   "source": [
    "# Selecting relevant columns to answer the questions\n",
    "avail_factors = df[['host_response_time','host_response_rate','host_acceptance_rate', 'host_is_superhost', 'review_scores_rating', \n",
    "                    'availability_30', 'availability_60','availability_90', 'availability_365']]\n",
    "\n",
    "# Data cleaning and prep\n",
    "# Drop superhost column\n",
    "\"\"\"\n",
    "Reason for chosen approach:  \n",
    "Machine learning algorithms, including linear regression, \n",
    "often struggle with missing values. Models might not perform well \n",
    "when trained on incomplete data, potentially leading to \n",
    "inaccurate predictions. Removing rows with missing data can help \n",
    "improve the model's performance and the quality of predictions.\n",
    "\"\"\"\n",
    "avail_factors.dropna(subset=['host_is_superhost'], inplace=True)\n",
    "\n",
    "# Replace categorical values with float for model training\n",
    "def categorical_replac(df, col_name, val):\n",
    "    \"\"\"\n",
    "    Replace categorical values with numerical representation in a DataFrame column.\n",
    "\n",
    "    This function replaces specific categorical values in a specified column with a numerical representation.\n",
    "    This is useful for preparing categorical data for model training.\n",
    "\n",
    "    Parameters:\n",
    "    df (DataFrame): The DataFrame containing the column to be transformed.\n",
    "    col_name (str): The name of the column where categorical values will be replaced.\n",
    "    val (dict or str): A dictionary mapping categorical values to their corresponding numerical representation,\n",
    "                      or a single categorical value to be replaced.\n",
    "\n",
    "    Returns:\n",
    "    None. The function modifies the input DataFrame in place.\n",
    "    \"\"\"\n",
    "    df[col_name] = df[col_name].replace(val)\n",
    "    \n",
    "# Define replacement values for categorical values \n",
    "response_map = {'within a few hours': 2, 'within an hour': 1, 'within a day': 3,'a few days or more': 4}\n",
    "superhost_map = {'f': 0, 't': 1}\n",
    "\n",
    "# Call function to replace categorical value\n",
    "categorical_replac(avail_factors, 'host_response_time', response_map)\n",
    "categorical_replac(avail_factors, 'host_is_superhost', superhost_map)\n",
    "\n",
    "# Calling the function to transform host_response_rate and host_acceptance_rate columns\n",
    "column_transformation(avail_factors, 'host_response_rate', '%')\n",
    "column_transformation(avail_factors, 'host_acceptance_rate', '%')\n",
    "    \n",
    "# Calling the function to fill in mean values for empty rows\n",
    "\"\"\"\n",
    "Reasons for the chosen approach:\n",
    "When you have missing values in columns that are important for your \n",
    "analysis, like host_response_time and host_response_rate, you might \n",
    "choose to fill in these missing values with the mean to preserve \n",
    "the data points for analysis. Removing rows with missing values \n",
    "could lead to a loss of valuable information and potentially bias your \n",
    "analysis.\n",
    "\"\"\"\n",
    "column_names = [\"host_response_time\", \"host_response_rate\", \"host_acceptance_rate\", \"review_scores_rating\"]\n",
    "[filling_mean(avail_factors, column) for column in column_names]\n",
    "\n",
    "# Check whether the data frame has empty values\n",
    "print(avail_factors.isnull().sum())"
   ]
  },
  {
   "cell_type": "markdown",
   "metadata": {},
   "source": [
    "## Data modeling"
   ]
  },
  {
   "cell_type": "code",
   "execution_count": 16,
   "metadata": {},
   "outputs": [
    {
     "name": "stdout",
     "output_type": "stream",
     "text": [
      "The r-squared score for the model using only quantitative variables was -0.005126527088201049 on 382 values.\n"
     ]
    }
   ],
   "source": [
    "## Training the model\n",
    "X = avail_factors[['host_response_time','host_response_rate','host_acceptance_rate', 'host_is_superhost', 'review_scores_rating']]\n",
    "y = avail_factors[['availability_30', 'availability_60']]\n",
    "\n",
    "# Split data into training and test data, and fit a linear model\n",
    "X_train, X_test, y_train, y_test = train_test_split(X, y , test_size=.10, random_state=42)\n",
    "lm_model = LinearRegression(normalize=True)\n",
    "\n",
    "# If our model works, it should just fit our model to the data. Otherwise, it will let us know.\n",
    "try:\n",
    "    lm_model.fit(X_train, y_train)\n",
    "    y_test_preds = lm_model.predict(X_test) \n",
    "    print(\"The r-squared score for the model using only quantitative variables was {} on {} values.\".format(r2_score(y_test, y_test_preds), len(y_test)))\n",
    "    \n",
    "except:\n",
    "    print(\"Oh no! It doesn't work!!!\")"
   ]
  },
  {
   "cell_type": "markdown",
   "metadata": {},
   "source": [
    "## Evaluate the results"
   ]
  },
  {
   "cell_type": "markdown",
   "metadata": {},
   "source": [
    "A negative r-squared score of approximately -0.0051 suggests that the model does not fit the data well and the model's predictions are not capturing the patterns in the data. "
   ]
  },
  {
   "cell_type": "markdown",
   "metadata": {},
   "source": [
    "# Question 3: Would the property neighbourhood influences availability?\n",
    "To answer the third question, we need to identify whether property neighbourhood would influence availability.\n",
    "\n",
    "The assumption is that neighbourhood would impact availability.\n",
    "\n",
    "We put some variables into the linear regression model and the result shows moderate variablility in the dependent variables"
   ]
  },
  {
   "cell_type": "markdown",
   "metadata": {},
   "source": [
    "## Prepare the data"
   ]
  },
  {
   "cell_type": "code",
   "execution_count": 11,
   "metadata": {},
   "outputs": [
    {
     "name": "stdout",
     "output_type": "stream",
     "text": [
      "neighbourhood_cleansed          0\n",
      "neighbourhood_group_cleansed    0\n",
      "availability_30                 0\n",
      "availability_60                 0\n",
      "availability_90                 0\n",
      "availability_365                0\n",
      "dtype: int64\n"
     ]
    }
   ],
   "source": [
    "## Data cleaning and prep\n",
    "# Selecting relevant columns to answer the questions\n",
    "\"\"\"\n",
    "There are no missing values in the data set.\n",
    "\"\"\"\n",
    "avail_factors = df[['neighbourhood_cleansed','neighbourhood_group_cleansed', \n",
    "                    'availability_30', 'availability_60','availability_90', 'availability_365']]\n",
    "\n",
    "# Check whether the data frame has empty values\n",
    "print(avail_factors.isnull().sum())"
   ]
  },
  {
   "cell_type": "markdown",
   "metadata": {},
   "source": [
    "## Data modeling"
   ]
  },
  {
   "cell_type": "code",
   "execution_count": 12,
   "metadata": {},
   "outputs": [
    {
     "name": "stdout",
     "output_type": "stream",
     "text": [
      "The r-squared score for the model using only quantitative variables was -0.04826558334942599 on 382 values.\n"
     ]
    }
   ],
   "source": [
    "## Training the model\n",
    "X = pd.get_dummies(avail_factors[['neighbourhood_cleansed','neighbourhood_group_cleansed']])\n",
    "y = avail_factors[['availability_30', 'availability_60']]\n",
    "\n",
    "# Split data into training and test data, and fit a linear model\n",
    "X_train, X_test, y_train, y_test = train_test_split(X, y , test_size=.10, random_state=42)\n",
    "lm_model = LinearRegression(normalize=True)\n",
    "\n",
    "# If our model works, it should just fit our model to the data. Otherwise, it will let us know.\n",
    "try:\n",
    "    lm_model.fit(X_train, y_train)\n",
    "    y_test_preds = lm_model.predict(X_test) \n",
    "    print(\"The r-squared score for the model using only quantitative variables was {} on {} values.\".format(r2_score(y_test, y_test_preds), len(y_test)))\n",
    "    \n",
    "except:\n",
    "    print(\"Oh no! It doesn't work!!!\")"
   ]
  },
  {
   "cell_type": "markdown",
   "metadata": {},
   "source": [
    "## Evaluate the results"
   ]
  },
  {
   "cell_type": "markdown",
   "metadata": {},
   "source": [
    "A negative R-squared score typically indicates that the model is performing worse than a horizontal line (a line that predicts the mean of the target for all inputs), which suggests that the model doesn't fit the data well."
   ]
  }
 ],
 "metadata": {
  "kernelspec": {
   "display_name": "Python 3",
   "language": "python",
   "name": "python3"
  },
  "language_info": {
   "codemirror_mode": {
    "name": "ipython",
    "version": 3
   },
   "file_extension": ".py",
   "mimetype": "text/x-python",
   "name": "python",
   "nbconvert_exporter": "python",
   "pygments_lexer": "ipython3",
   "version": "3.6.3"
  }
 },
 "nbformat": 4,
 "nbformat_minor": 2
}
